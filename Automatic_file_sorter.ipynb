{
 "cells": [
  {
   "cell_type": "code",
   "execution_count": 2,
   "id": "272e0cc7-1f8d-4735-9d55-366bc02e925b",
   "metadata": {},
   "outputs": [],
   "source": [
    "import os, shutil"
   ]
  },
  {
   "cell_type": "code",
   "execution_count": 22,
   "id": "c9abfa3f-d238-409c-a958-3f954e382cb0",
   "metadata": {},
   "outputs": [],
   "source": [
    "path = r\"C:/Users/eyung/Documents/Data Analyst Files\""
   ]
  },
  {
   "cell_type": "code",
   "execution_count": 24,
   "id": "9cc6a284-5ad0-4401-800f-2b967ef53774",
   "metadata": {},
   "outputs": [
    {
     "ename": "FileNotFoundError",
     "evalue": "[Errno 2] No such file or directory: 'C:/Users/eyung/Documents/Data Analyst Files'",
     "output_type": "error",
     "traceback": [
      "\u001b[0;31m---------------------------------------------------------------------------\u001b[0m",
      "\u001b[0;31mFileNotFoundError\u001b[0m                         Traceback (most recent call last)",
      "Cell \u001b[0;32mIn[24], line 1\u001b[0m\n\u001b[0;32m----> 1\u001b[0m \u001b[43mos\u001b[49m\u001b[38;5;241;43m.\u001b[39;49m\u001b[43mlistdir\u001b[49m\u001b[43m(\u001b[49m\u001b[43mpath\u001b[49m\u001b[43m)\u001b[49m\n",
      "\u001b[0;31mFileNotFoundError\u001b[0m: [Errno 2] No such file or directory: 'C:/Users/eyung/Documents/Data Analyst Files'"
     ]
    }
   ],
   "source": [
    "file_name = os.listdir(path)"
   ]
  },
  {
   "cell_type": "code",
   "execution_count": 20,
   "id": "a0cc78cf-bd72-4df5-bcee-8be072da4e57",
   "metadata": {},
   "outputs": [],
   "source": [
    "folder_names = ['csv_files', 'image_files', 'text_files']\n",
    "\n",
    "for loop in range(0,3):\n",
    "    if not os.path.exists(path + folder_names[loop]):\n",
    "        #print(path + folder_names[loop])\n",
    "        os.makedirs(path + folder_names[loop])\n",
    "\n",
    "for file in file_name:\n",
    "    if \".csv\" in file and not os.path.exists(path + 'csv_files/'+ file):\n",
    "        shutil(path + file, path + 'csv_files/' + file)\n",
    "    elif \".png\" in file and not os.path.exists(path + 'image_files/' + file):\n",
    "        shutil(path + file, path + 'image_files/' + file):\n",
    "    elif \".txt\" in file and not in os.path.exists(path + 'text_files/' + file):\n",
    "        shutil(path + file, path + 'text_files/' + file)"
   ]
  },
  {
   "cell_type": "code",
   "execution_count": null,
   "id": "18a3334d-6dc7-4116-86e1-753eb72b2cc1",
   "metadata": {},
   "outputs": [],
   "source": []
  }
 ],
 "metadata": {
  "kernelspec": {
   "display_name": "anaconda-2024.02-py310",
   "language": "python",
   "name": "conda-env-anaconda-2024.02-py310-py"
  },
  "language_info": {
   "codemirror_mode": {
    "name": "ipython",
    "version": 3
   },
   "file_extension": ".py",
   "mimetype": "text/x-python",
   "name": "python",
   "nbconvert_exporter": "python",
   "pygments_lexer": "ipython3",
   "version": "3.10.14"
  }
 },
 "nbformat": 4,
 "nbformat_minor": 5
}
